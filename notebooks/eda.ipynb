{
 "cells": [
  {
   "cell_type": "code",
   "execution_count": 1,
   "metadata": {},
   "outputs": [],
   "source": [
    "import pandas as pd"
   ]
  },
  {
   "cell_type": "code",
   "execution_count": 2,
   "metadata": {},
   "outputs": [
    {
     "name": "stderr",
     "output_type": "stream",
     "text": [
      "C:\\Users\\bre_p\\AppData\\Local\\Temp\\ipykernel_1928\\3499592507.py:1: DtypeWarning: Columns (41,44) have mixed types. Specify dtype option on import or set low_memory=False.\n",
      "  df = pd.read_csv(\"../data/interim/COMPLAINTS_RECEIVED_2014.csv\")\n"
     ]
    }
   ],
   "source": [
    "df = pd.read_csv(\"../data/interim/COMPLAINTS_RECEIVED_2014.csv\")"
   ]
  },
  {
   "cell_type": "code",
   "execution_count": 3,
   "metadata": {},
   "outputs": [
    {
     "name": "stdout",
     "output_type": "stream",
     "text": [
      "<class 'pandas.core.frame.DataFrame'>\n",
      "RangeIndex: 113908 entries, 0 to 113907\n",
      "Data columns (total 49 columns):\n",
      " #   Column             Non-Null Count   Dtype  \n",
      "---  ------             --------------   -----  \n",
      " 0   CMPLID             113908 non-null  int64  \n",
      " 1   ODINO              113908 non-null  int64  \n",
      " 2   MFR_NAME           113907 non-null  object \n",
      " 3   MAKETXT            113907 non-null  object \n",
      " 4   MODELTXT           113907 non-null  object \n",
      " 5   YEARTXT            113907 non-null  float64\n",
      " 6   CRASH              113908 non-null  object \n",
      " 7   FAILDATE           113908 non-null  int64  \n",
      " 8   FIRE               113908 non-null  object \n",
      " 9   INJURED            113908 non-null  int64  \n",
      " 10  DEATHS             113908 non-null  int64  \n",
      " 11  COMPDESC           113895 non-null  object \n",
      " 12  CITY               113908 non-null  object \n",
      " 13  STATE              113908 non-null  object \n",
      " 14  VIN                93962 non-null   object \n",
      " 15  DATEA              113908 non-null  int64  \n",
      " 16  LDATE              113908 non-null  object \n",
      " 17  MILES              94042 non-null   float64\n",
      " 18  OCCURENCES         90497 non-null   float64\n",
      " 19  CDESCR             113907 non-null  object \n",
      " 20  CMPL_TYPE          113908 non-null  object \n",
      " 21  POLICE_RPT_YN      113908 non-null  object \n",
      " 22  PURCH_DT           3005 non-null    float64\n",
      " 23  ORIG_OWNER_YN      112348 non-null  object \n",
      " 24  ANTI_BRAKES_YN     112348 non-null  object \n",
      " 25  CRUISE_CONT_YN     112348 non-null  object \n",
      " 26  NUM_CYLS           61812 non-null   float64\n",
      " 27  DRIVE_TRAIN        28483 non-null   object \n",
      " 28  FUEL_SYS           5074 non-null    object \n",
      " 29  FUEL_TYPE          41483 non-null   object \n",
      " 30  TRANS_TYPE         2182 non-null    object \n",
      " 31  VEH_SPEED          74049 non-null   float64\n",
      " 32  DOT                585 non-null     object \n",
      " 33  TIRE_SIZE          866 non-null     object \n",
      " 34  LOC_OF_TIRE        744 non-null     object \n",
      " 35  TIRE_FAIL_TYPE     786 non-null     object \n",
      " 36  ORIG_EQUIP_YN      263 non-null     object \n",
      " 37  MANUF_DT           374 non-null     float64\n",
      " 38  SEAT_TYPE          368 non-null     object \n",
      " 39  RESTRAINT_TYPE     356 non-null     object \n",
      " 40  DEALER_NAME        4877 non-null    object \n",
      " 41  DEALER_TEL         28 non-null      object \n",
      " 42  DEALER_CITY        4225 non-null    object \n",
      " 43  DEALER_STATE       4221 non-null    object \n",
      " 44  DEALER_ZIP         3200 non-null    object \n",
      " 45  PROD_TYPE          113907 non-null  object \n",
      " 46  REPAIRED_YN        886 non-null     object \n",
      " 47  MEDICAL_ATTN       113908 non-null  object \n",
      " 48  VEHICLES_TOWED_YN  112348 non-null  object \n",
      "dtypes: float64(7), int64(6), object(36)\n",
      "memory usage: 42.6+ MB\n"
     ]
    }
   ],
   "source": [
    "df.info()"
   ]
  }
 ],
 "metadata": {
  "kernelspec": {
   "display_name": "venv",
   "language": "python",
   "name": "python3"
  },
  "language_info": {
   "codemirror_mode": {
    "name": "ipython",
    "version": 3
   },
   "file_extension": ".py",
   "mimetype": "text/x-python",
   "name": "python",
   "nbconvert_exporter": "python",
   "pygments_lexer": "ipython3",
   "version": "3.11.9"
  }
 },
 "nbformat": 4,
 "nbformat_minor": 2
}
