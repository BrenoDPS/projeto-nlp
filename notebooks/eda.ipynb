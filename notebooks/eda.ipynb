{
 "cells": [
  {
   "cell_type": "code",
   "execution_count": 2,
   "metadata": {},
   "outputs": [],
   "source": [
    "import pandas as pd"
   ]
  },
  {
   "cell_type": "code",
   "execution_count": 3,
   "metadata": {},
   "outputs": [
    {
     "name": "stderr",
     "output_type": "stream",
     "text": [
      "C:\\Users\\bre_p\\AppData\\Local\\Temp\\ipykernel_21408\\654715174.py:1: DtypeWarning: Columns (15,16,18,27,28,29,30,33,38,41,44) have mixed types. Specify dtype option on import or set low_memory=False.\n",
      "  df = pd.read_csv(\"../data/processed/reclamacoes.csv\")\n"
     ]
    }
   ],
   "source": [
    "df = pd.read_csv(\"../data/processed/reclamacoes.csv\")"
   ]
  },
  {
   "cell_type": "code",
   "execution_count": 4,
   "metadata": {},
   "outputs": [
    {
     "name": "stdout",
     "output_type": "stream",
     "text": [
      "<class 'pandas.core.frame.DataFrame'>\n",
      "RangeIndex: 1021247 entries, 0 to 1021246\n",
      "Data columns (total 49 columns):\n",
      " #   Column             Non-Null Count    Dtype  \n",
      "---  ------             --------------    -----  \n",
      " 0   CMPLID             1021247 non-null  int64  \n",
      " 1   ODINO              1021247 non-null  int64  \n",
      " 2   MFR_NAME           1021231 non-null  object \n",
      " 3   MAKETXT            1021231 non-null  object \n",
      " 4   MODELTXT           1021229 non-null  object \n",
      " 5   YEARTXT            1021231 non-null  float64\n",
      " 6   CRASH              1021247 non-null  object \n",
      " 7   FAILDATE           1021247 non-null  int64  \n",
      " 8   FIRE               1021247 non-null  object \n",
      " 9   INJURED            1021247 non-null  int64  \n",
      " 10  DEATHS             1021247 non-null  int64  \n",
      " 11  COMPDESC           1021227 non-null  object \n",
      " 12  CITY               1021214 non-null  object \n",
      " 13  STATE              1021247 non-null  object \n",
      " 14  VIN                946571 non-null   object \n",
      " 15  DATEA              1021247 non-null  object \n",
      " 16  LDATE              1021247 non-null  object \n",
      " 17  MILES              615219 non-null   float64\n",
      " 18  OCCURENCES         173236 non-null   object \n",
      " 19  CDESCR             1021198 non-null  object \n",
      " 20  CMPL_TYPE          1021247 non-null  object \n",
      " 21  POLICE_RPT_YN      1021246 non-null  object \n",
      " 22  PURCH_DT           16461 non-null    float64\n",
      " 23  ORIG_OWNER_YN      1009561 non-null  object \n",
      " 24  ANTI_BRAKES_YN     1009561 non-null  object \n",
      " 25  CRUISE_CONT_YN     1009561 non-null  object \n",
      " 26  NUM_CYLS           139984 non-null   float64\n",
      " 27  DRIVE_TRAIN        108460 non-null   object \n",
      " 28  FUEL_SYS           14097 non-null    object \n",
      " 29  FUEL_TYPE          105959 non-null   object \n",
      " 30  TRANS_TYPE         12216 non-null    object \n",
      " 31  VEH_SPEED          598810 non-null   float64\n",
      " 32  DOT                4397 non-null     object \n",
      " 33  TIRE_SIZE          3625 non-null     object \n",
      " 34  LOC_OF_TIRE        5184 non-null     object \n",
      " 35  TIRE_FAIL_TYPE     3570 non-null     object \n",
      " 36  ORIG_EQUIP_YN      3142 non-null     object \n",
      " 37  MANUF_DT           1798 non-null     float64\n",
      " 38  SEAT_TYPE          1873 non-null     object \n",
      " 39  RESTRAINT_TYPE     1724 non-null     object \n",
      " 40  DEALER_NAME        59828 non-null    object \n",
      " 41  DEALER_TEL         15146 non-null    object \n",
      " 42  DEALER_CITY        55426 non-null    object \n",
      " 43  DEALER_STATE       55724 non-null    object \n",
      " 44  DEALER_ZIP         48112 non-null    object \n",
      " 45  PROD_TYPE          1021230 non-null  object \n",
      " 46  REPAIRED_YN        6277 non-null     object \n",
      " 47  MEDICAL_ATTN       1021246 non-null  object \n",
      " 48  VEHICLES_TOWED_YN  1009561 non-null  object \n",
      "dtypes: float64(6), int64(5), object(38)\n",
      "memory usage: 381.8+ MB\n"
     ]
    }
   ],
   "source": [
    "df.info()"
   ]
  }
 ],
 "metadata": {
  "kernelspec": {
   "display_name": "venv",
   "language": "python",
   "name": "python3"
  },
  "language_info": {
   "codemirror_mode": {
    "name": "ipython",
    "version": 3
   },
   "file_extension": ".py",
   "mimetype": "text/x-python",
   "name": "python",
   "nbconvert_exporter": "python",
   "pygments_lexer": "ipython3",
   "version": "3.11.9"
  }
 },
 "nbformat": 4,
 "nbformat_minor": 2
}
